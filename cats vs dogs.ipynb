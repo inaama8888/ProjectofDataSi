{
 "cells": [
  {
   "cell_type": "markdown",
   "metadata": {},
   "source": [
    "<h1>Cats vs Dogs</h1>"
   ]
  },
  {
   "cell_type": "code",
   "execution_count": 36,
   "metadata": {},
   "outputs": [],
   "source": [
    "import numpy as np\n",
    "import pandas as pd\n",
    "import matplotlib.pyplot as plt\n",
    "%matplotlib inline\n",
    "import os\n",
    "import cv2\n",
    "from sklearn.model_selection import train_test_split\n",
    "from sklearn.model_selection import cross_val_score\n",
    "from sklearn.decomposition import PCA\n",
    "from sklearn.preprocessing import StandardScaler\n",
    "from sklearn.ensemble import BaggingClassifier\n",
    "from sklearn.ensemble import RandomForestClassifier\n",
    "from sklearn.ensemble import VotingClassifier\n",
    "from sklearn.neighbors import KNeighborsClassifier\n",
    "from sklearn.tree import DecisionTreeClassifier\n",
    "from sklearn.metrics import classification_report\n",
    "from sklearn.metrics import plot_confusion_matrix\n",
    "from sklearn.linear_model import LogisticRegression\n",
    "from sklearn.metrics import accuracy_score\n",
    "from xgboost import XGBClassifier\n",
    "from sklearn.cluster import KMeans\n",
    "from sklearn.pipeline import Pipeline\n",
    "from sklearn.metrics import accuracy_score\n",
    "import warnings\n",
    "warnings.filterwarnings('ignore')\n",
    "from sklearn.model_selection import GridSearchCV"
   ]
  },
  {
   "cell_type": "code",
   "execution_count": 37,
   "metadata": {},
   "outputs": [],
   "source": [
    "file_path = 'train'\n",
    "filenames = os.listdir(file_path)\n",
    "classes = []\n",
    "for filename in filenames:\n",
    "    image_class = filename.split(\".\")[0]\n",
    "    if image_class == \"dog\":\n",
    "        classes.append(1)\n",
    "    else:\n",
    "        classes.append(0)\n",
    "    ## get the data from the libery "
   ]
  },
  {
   "cell_type": "code",
   "execution_count": 59,
   "metadata": {},
   "outputs": [],
   "source": [
    "df = pd.DataFrame({\"filename\": filenames, \"category\": classes})\n",
    "df[\"category\"] = df[\"category\"].replace({0: \"cat\", 1: \"dog\"})\n"
   ]
  },
  {
   "cell_type": "code",
   "execution_count": 39,
   "metadata": {},
   "outputs": [
    {
     "data": {
      "text/html": [
       "<div>\n",
       "<style scoped>\n",
       "    .dataframe tbody tr th:only-of-type {\n",
       "        vertical-align: middle;\n",
       "    }\n",
       "\n",
       "    .dataframe tbody tr th {\n",
       "        vertical-align: top;\n",
       "    }\n",
       "\n",
       "    .dataframe thead th {\n",
       "        text-align: right;\n",
       "    }\n",
       "</style>\n",
       "<table border=\"1\" class=\"dataframe\">\n",
       "  <thead>\n",
       "    <tr style=\"text-align: right;\">\n",
       "      <th></th>\n",
       "      <th>filename</th>\n",
       "      <th>category</th>\n",
       "    </tr>\n",
       "  </thead>\n",
       "  <tbody>\n",
       "    <tr>\n",
       "      <th>24995</th>\n",
       "      <td>dog.9995.jpg</td>\n",
       "      <td>dog</td>\n",
       "    </tr>\n",
       "    <tr>\n",
       "      <th>24996</th>\n",
       "      <td>dog.9996.jpg</td>\n",
       "      <td>dog</td>\n",
       "    </tr>\n",
       "    <tr>\n",
       "      <th>24997</th>\n",
       "      <td>dog.9997.jpg</td>\n",
       "      <td>dog</td>\n",
       "    </tr>\n",
       "    <tr>\n",
       "      <th>24998</th>\n",
       "      <td>dog.9998.jpg</td>\n",
       "      <td>dog</td>\n",
       "    </tr>\n",
       "    <tr>\n",
       "      <th>24999</th>\n",
       "      <td>dog.9999.jpg</td>\n",
       "      <td>dog</td>\n",
       "    </tr>\n",
       "  </tbody>\n",
       "</table>\n",
       "</div>"
      ],
      "text/plain": [
       "           filename category\n",
       "24995  dog.9995.jpg      dog\n",
       "24996  dog.9996.jpg      dog\n",
       "24997  dog.9997.jpg      dog\n",
       "24998  dog.9998.jpg      dog\n",
       "24999  dog.9999.jpg      dog"
      ]
     },
     "execution_count": 39,
     "metadata": {},
     "output_type": "execute_result"
    }
   ],
   "source": [
    "df.tail()"
   ]
  },
  {
   "cell_type": "code",
   "execution_count": 40,
   "metadata": {},
   "outputs": [
    {
     "data": {
      "text/plain": [
       "Text(0.5, 1.0, 'Data Distribution')"
      ]
     },
     "execution_count": 40,
     "metadata": {},
     "output_type": "execute_result"
    },
    {
     "data": {
      "image/png": "[encoded data removed]",
      "text/plain": [
       "<Figure size 432x288 with 1 Axes>"
      ]
     },
     "metadata": {
      "needs_background": "light"
     },
     "output_type": "display_data"
    }
   ],
   "source": [
    "import seaborn as sns\n",
    "\n",
    "\n",
    "sns.countplot(x='category',data=df).set_title(\"Data Distribution\")"
   ]
  },
  {
   "cell_type": "code",
   "execution_count": 75,
   "metadata": {},
   "outputs": [],
   "source": [
    "file_path = 'train'\n",
    "filenames = os.listdir(file_path)\n",
    "data = pd.DataFrame()\n",
    "for i in range(len(df.index)):\n",
    "    o=os.path.join(f'{file_path}', filenames[i])\n",
    "    img = cv2.imread(o, 0)\n",
    "    img_resized = cv2.resize(img, (28,28),interpolation = cv2.INTER_AREA)\n",
    "    img_reshape = img_resized.reshape(28*28)\n",
    "    one = pd.DataFrame(img_reshape)\n",
    "    data = pd.concat([data,one],axis=1)\n"
   ]
  },
  {
   "cell_type": "code",
   "execution_count": 78,
   "metadata": {},
   "outputs": [],
   "source": [
    "data = new_df.transpose()\n",
    "data.reset_index(drop=True,inplace=True)\n",
    "\n"
   ]
  },
  {
   "cell_type": "code",
   "execution_count": 79,
   "metadata": {},
   "outputs": [
    {
     "data": {
      "text/html": [
       "<div>\n",
       "<style scoped>\n",
       "    .dataframe tbody tr th:only-of-type {\n",
       "        vertical-align: middle;\n",
       "    }\n",
       "\n",
       "    .dataframe tbody tr th {\n",
       "        vertical-align: top;\n",
       "    }\n",
       "\n",
       "    .dataframe thead th {\n",
       "        text-align: right;\n",
       "    }\n",
       "</style>\n",
       "<table border=\"1\" class=\"dataframe\">\n",
       "  <thead>\n",
       "    <tr style=\"text-align: right;\">\n",
       "      <th></th>\n",
       "      <th>0</th>\n",
       "      <th>1</th>\n",
       "      <th>2</th>\n",
       "      <th>3</th>\n",
       "      <th>4</th>\n",
       "      <th>5</th>\n",
       "      <th>6</th>\n",
       "      <th>7</th>\n",
       "      <th>8</th>\n",
       "      <th>9</th>\n",
       "      <th>...</th>\n",
       "      <th>775</th>\n",
       "      <th>776</th>\n",
       "      <th>777</th>\n",
       "      <th>778</th>\n",
       "      <th>779</th>\n",
       "      <th>780</th>\n",
       "      <th>781</th>\n",
       "      <th>782</th>\n",
       "      <th>783</th>\n",
       "      <th>category</th>\n",
       "    </tr>\n",
       "  </thead>\n",
       "  <tbody>\n",
       "    <tr>\n",
       "      <th>0</th>\n",
       "      <td>174</td>\n",
       "      <td>188</td>\n",
       "      <td>199</td>\n",
       "      <td>204</td>\n",
       "      <td>209</td>\n",
       "      <td>215</td>\n",
       "      <td>184</td>\n",
       "      <td>161</td>\n",
       "      <td>135</td>\n",
       "      <td>102</td>\n",
       "      <td>...</td>\n",
       "      <td>28</td>\n",
       "      <td>9</td>\n",
       "      <td>17</td>\n",
       "      <td>40</td>\n",
       "      <td>31</td>\n",
       "      <td>11</td>\n",
       "      <td>4</td>\n",
       "      <td>3</td>\n",
       "      <td>3</td>\n",
       "      <td>cat</td>\n",
       "    </tr>\n",
       "    <tr>\n",
       "      <th>1</th>\n",
       "      <td>44</td>\n",
       "      <td>47</td>\n",
       "      <td>51</td>\n",
       "      <td>43</td>\n",
       "      <td>42</td>\n",
       "      <td>52</td>\n",
       "      <td>65</td>\n",
       "      <td>69</td>\n",
       "      <td>75</td>\n",
       "      <td>90</td>\n",
       "      <td>...</td>\n",
       "      <td>55</td>\n",
       "      <td>35</td>\n",
       "      <td>34</td>\n",
       "      <td>51</td>\n",
       "      <td>52</td>\n",
       "      <td>55</td>\n",
       "      <td>57</td>\n",
       "      <td>61</td>\n",
       "      <td>53</td>\n",
       "      <td>cat</td>\n",
       "    </tr>\n",
       "    <tr>\n",
       "      <th>2</th>\n",
       "      <td>50</td>\n",
       "      <td>59</td>\n",
       "      <td>60</td>\n",
       "      <td>59</td>\n",
       "      <td>57</td>\n",
       "      <td>54</td>\n",
       "      <td>52</td>\n",
       "      <td>52</td>\n",
       "      <td>50</td>\n",
       "      <td>52</td>\n",
       "      <td>...</td>\n",
       "      <td>116</td>\n",
       "      <td>131</td>\n",
       "      <td>72</td>\n",
       "      <td>75</td>\n",
       "      <td>72</td>\n",
       "      <td>81</td>\n",
       "      <td>128</td>\n",
       "      <td>144</td>\n",
       "      <td>165</td>\n",
       "      <td>cat</td>\n",
       "    </tr>\n",
       "    <tr>\n",
       "      <th>3</th>\n",
       "      <td>223</td>\n",
       "      <td>228</td>\n",
       "      <td>227</td>\n",
       "      <td>229</td>\n",
       "      <td>227</td>\n",
       "      <td>226</td>\n",
       "      <td>228</td>\n",
       "      <td>225</td>\n",
       "      <td>223</td>\n",
       "      <td>209</td>\n",
       "      <td>...</td>\n",
       "      <td>160</td>\n",
       "      <td>176</td>\n",
       "      <td>235</td>\n",
       "      <td>250</td>\n",
       "      <td>243</td>\n",
       "      <td>229</td>\n",
       "      <td>213</td>\n",
       "      <td>211</td>\n",
       "      <td>215</td>\n",
       "      <td>cat</td>\n",
       "    </tr>\n",
       "    <tr>\n",
       "      <th>4</th>\n",
       "      <td>100</td>\n",
       "      <td>95</td>\n",
       "      <td>133</td>\n",
       "      <td>183</td>\n",
       "      <td>196</td>\n",
       "      <td>238</td>\n",
       "      <td>213</td>\n",
       "      <td>180</td>\n",
       "      <td>153</td>\n",
       "      <td>141</td>\n",
       "      <td>...</td>\n",
       "      <td>99</td>\n",
       "      <td>106</td>\n",
       "      <td>100</td>\n",
       "      <td>96</td>\n",
       "      <td>99</td>\n",
       "      <td>95</td>\n",
       "      <td>80</td>\n",
       "      <td>85</td>\n",
       "      <td>84</td>\n",
       "      <td>cat</td>\n",
       "    </tr>\n",
       "    <tr>\n",
       "      <th>...</th>\n",
       "      <td>...</td>\n",
       "      <td>...</td>\n",
       "      <td>...</td>\n",
       "      <td>...</td>\n",
       "      <td>...</td>\n",
       "      <td>...</td>\n",
       "      <td>...</td>\n",
       "      <td>...</td>\n",
       "      <td>...</td>\n",
       "      <td>...</td>\n",
       "      <td>...</td>\n",
       "      <td>...</td>\n",
       "      <td>...</td>\n",
       "      <td>...</td>\n",
       "      <td>...</td>\n",
       "      <td>...</td>\n",
       "      <td>...</td>\n",
       "      <td>...</td>\n",
       "      <td>...</td>\n",
       "      <td>...</td>\n",
       "      <td>...</td>\n",
       "    </tr>\n",
       "    <tr>\n",
       "      <th>24995</th>\n",
       "      <td>142</td>\n",
       "      <td>147</td>\n",
       "      <td>149</td>\n",
       "      <td>152</td>\n",
       "      <td>154</td>\n",
       "      <td>158</td>\n",
       "      <td>159</td>\n",
       "      <td>160</td>\n",
       "      <td>163</td>\n",
       "      <td>164</td>\n",
       "      <td>...</td>\n",
       "      <td>157</td>\n",
       "      <td>169</td>\n",
       "      <td>153</td>\n",
       "      <td>159</td>\n",
       "      <td>163</td>\n",
       "      <td>163</td>\n",
       "      <td>165</td>\n",
       "      <td>167</td>\n",
       "      <td>168</td>\n",
       "      <td>dog</td>\n",
       "    </tr>\n",
       "    <tr>\n",
       "      <th>24996</th>\n",
       "      <td>92</td>\n",
       "      <td>90</td>\n",
       "      <td>88</td>\n",
       "      <td>83</td>\n",
       "      <td>95</td>\n",
       "      <td>88</td>\n",
       "      <td>97</td>\n",
       "      <td>98</td>\n",
       "      <td>105</td>\n",
       "      <td>108</td>\n",
       "      <td>...</td>\n",
       "      <td>53</td>\n",
       "      <td>13</td>\n",
       "      <td>20</td>\n",
       "      <td>33</td>\n",
       "      <td>68</td>\n",
       "      <td>82</td>\n",
       "      <td>88</td>\n",
       "      <td>84</td>\n",
       "      <td>83</td>\n",
       "      <td>dog</td>\n",
       "    </tr>\n",
       "    <tr>\n",
       "      <th>24997</th>\n",
       "      <td>41</td>\n",
       "      <td>50</td>\n",
       "      <td>44</td>\n",
       "      <td>51</td>\n",
       "      <td>91</td>\n",
       "      <td>111</td>\n",
       "      <td>72</td>\n",
       "      <td>75</td>\n",
       "      <td>101</td>\n",
       "      <td>122</td>\n",
       "      <td>...</td>\n",
       "      <td>153</td>\n",
       "      <td>154</td>\n",
       "      <td>166</td>\n",
       "      <td>160</td>\n",
       "      <td>145</td>\n",
       "      <td>135</td>\n",
       "      <td>136</td>\n",
       "      <td>138</td>\n",
       "      <td>138</td>\n",
       "      <td>dog</td>\n",
       "    </tr>\n",
       "    <tr>\n",
       "      <th>24998</th>\n",
       "      <td>243</td>\n",
       "      <td>181</td>\n",
       "      <td>114</td>\n",
       "      <td>90</td>\n",
       "      <td>88</td>\n",
       "      <td>86</td>\n",
       "      <td>94</td>\n",
       "      <td>87</td>\n",
       "      <td>103</td>\n",
       "      <td>98</td>\n",
       "      <td>...</td>\n",
       "      <td>137</td>\n",
       "      <td>135</td>\n",
       "      <td>125</td>\n",
       "      <td>115</td>\n",
       "      <td>98</td>\n",
       "      <td>99</td>\n",
       "      <td>106</td>\n",
       "      <td>112</td>\n",
       "      <td>120</td>\n",
       "      <td>dog</td>\n",
       "    </tr>\n",
       "    <tr>\n",
       "      <th>24999</th>\n",
       "      <td>243</td>\n",
       "      <td>245</td>\n",
       "      <td>248</td>\n",
       "      <td>242</td>\n",
       "      <td>248</td>\n",
       "      <td>249</td>\n",
       "      <td>249</td>\n",
       "      <td>248</td>\n",
       "      <td>242</td>\n",
       "      <td>248</td>\n",
       "      <td>...</td>\n",
       "      <td>255</td>\n",
       "      <td>255</td>\n",
       "      <td>255</td>\n",
       "      <td>255</td>\n",
       "      <td>254</td>\n",
       "      <td>254</td>\n",
       "      <td>254</td>\n",
       "      <td>254</td>\n",
       "      <td>254</td>\n",
       "      <td>dog</td>\n",
       "    </tr>\n",
       "  </tbody>\n",
       "</table>\n",
       "<p>25000 rows × 785 columns</p>\n",
       "</div>"
      ],
      "text/plain": [
       "         0    1    2    3    4    5    6    7    8    9  ...  775  776  777  \\\n",
       "0      174  188  199  204  209  215  184  161  135  102  ...   28    9   17   \n",
       "1       44   47   51   43   42   52   65   69   75   90  ...   55   35   34   \n",
       "2       50   59   60   59   57   54   52   52   50   52  ...  116  131   72   \n",
       "3      223  228  227  229  227  226  228  225  223  209  ...  160  176  235   \n",
       "4      100   95  133  183  196  238  213  180  153  141  ...   99  106  100   \n",
       "...    ...  ...  ...  ...  ...  ...  ...  ...  ...  ...  ...  ...  ...  ...   \n",
       "24995  142  147  149  152  154  158  159  160  163  164  ...  157  169  153   \n",
       "24996   92   90   88   83   95   88   97   98  105  108  ...   53   13   20   \n",
       "24997   41   50   44   51   91  111   72   75  101  122  ...  153  154  166   \n",
       "24998  243  181  114   90   88   86   94   87  103   98  ...  137  135  125   \n",
       "24999  243  245  248  242  248  249  249  248  242  248  ...  255  255  255   \n",
       "\n",
       "       778  779  780  781  782  783  category  \n",
       "0       40   31   11    4    3    3       cat  \n",
       "1       51   52   55   57   61   53       cat  \n",
       "2       75   72   81  128  144  165       cat  \n",
       "3      250  243  229  213  211  215       cat  \n",
       "4       96   99   95   80   85   84       cat  \n",
       "...    ...  ...  ...  ...  ...  ...       ...  \n",
       "24995  159  163  163  165  167  168       dog  \n",
       "24996   33   68   82   88   84   83       dog  \n",
       "24997  160  145  135  136  138  138       dog  \n",
       "24998  115   98   99  106  112  120       dog  \n",
       "24999  255  254  254  254  254  254       dog  \n",
       "\n",
       "[25000 rows x 785 columns]"
      ]
     },
     "execution_count": 79,
     "metadata": {},
     "output_type": "execute_result"
    }
   ],
   "source": [
    "data"
   ]
  },
  {
   "cell_type": "code",
   "execution_count": 81,
   "metadata": {},
   "outputs": [],
   "source": [
    "\n",
    "X = np.array(data.drop(columns = ['category']))\n",
    "y = np.array(df['category'])"
   ]
  },
  {
   "cell_type": "code",
   "execution_count": 84,
   "metadata": {},
   "outputs": [],
   "source": [
    "\n",
    "X_train, X_test, y_train, y_test = train_test_split(X,y,random_state = 0)\n"
   ]
  },
  {
   "cell_type": "markdown",
   "metadata": {},
   "source": [
    "<h5>pca</h5>"
   ]
  },
  {
   "cell_type": "code",
   "execution_count": 100,
   "metadata": {},
   "outputs": [
    {
     "data": {
      "text/plain": [
       "Text(0, 0.5, 'Cumulative explained variance')"
      ]
     },
     "execution_count": 100,
     "metadata": {},
     "output_type": "execute_result"
    },
    {
     "data": {
      "image/png": "[encoded data removed]",
      "text/plain": [
       "<Figure size 432x288 with 1 Axes>"
      ]
     },
     "metadata": {
      "needs_background": "light"
     },
     "output_type": "display_data"
    }
   ],
   "source": [
    "from sklearn.decomposition import PCA\n",
    "pca = PCA(n_components=0.95)\n",
    "pca.fit(X_train)\n",
    "\n",
    "plt.plot(np.cumsum(pca.explained_variance_ratio_))\n",
    "plt.xlabel('Number of components')\n",
    "plt.ylabel('Cumulative explained variance')"
   ]
  },
  {
   "cell_type": "code",
   "execution_count": 101,
   "metadata": {},
   "outputs": [
    {
     "name": "stdout",
     "output_type": "stream",
     "text": [
      "(18750, 784)\n",
      "(18750, 75)\n"
     ]
    }
   ],
   "source": [
    "NCOMPONENTS =75## the best Number of components is 45\n",
    "\n",
    "pca = PCA(n_components=NCOMPONENTS)\n",
    "X_pca_train = pca.fit_transform(X_train)\n",
    "X_pca_train_invers=pca.inverse_transform(X_pca_train)\n",
    "X_pca_test = pca.transform(X_test)\n",
    "pca_std = np.std(X_pca_train)\n",
    "\n",
    "print(X_train.shape)\n",
    "print(X_pca_train.shape)"
   ]
  },
  {
   "cell_type": "code",
   "execution_count": 102,
   "metadata": {},
   "outputs": [],
   "source": [
    "inv_pca_test = pca.inverse_transform(X_pca_test)"
   ]
  },
  {
   "cell_type": "code",
   "execution_count": 103,
   "metadata": {},
   "outputs": [],
   "source": [
    "inv_pca = pca.inverse_transform(X_pca_train)"
   ]
  },
  {
   "cell_type": "code",
   "execution_count": 104,
   "metadata": {},
   "outputs": [
    {
     "data": {
      "image/png": "[encoded data removed]",
      "text/plain": [
       "<Figure size 288x144 with 1 Axes>"
      ]
     },
     "metadata": {
      "needs_background": "light"
     },
     "output_type": "display_data"
    },
    {
     "data": {
      "image/png": "[encoded data removed]",
      "text/plain": [
       "<Figure size 288x144 with 1 Axes>"
      ]
     },
     "metadata": {
      "needs_background": "light"
     },
     "output_type": "display_data"
    },
    {
     "data": {
      "image/png": "[encoded data removed]",
      "text/plain": [
       "<Figure size 288x144 with 1 Axes>"
      ]
     },
     "metadata": {
      "needs_background": "light"
     },
     "output_type": "display_data"
    }
   ],
   "source": [
    "def side_by_side(indexes):\n",
    "    org = X_train[indexes].reshape(28,28)\n",
    "    rec = inv_pca[indexes].reshape(28,28)\n",
    "    pair = np.concatenate((org, rec), axis=1)\n",
    "    plt.figure(figsize=(4,2))\n",
    "    plt.imshow(pair)\n",
    "    plt.show()\n",
    "    \n",
    "for index in range(0,3):\n",
    "    side_by_side(index)"
   ]
  },
  {
   "cell_type": "code",
   "execution_count": 94,
   "metadata": {},
   "outputs": [],
   "source": [
    "###knn"
   ]
  },
  {
   "cell_type": "code",
   "execution_count": 105,
   "metadata": {},
   "outputs": [],
   "source": [
    "#befor pca\n",
    "knn = KNeighborsClassifier(n_neighbors=2)\n",
    "#Train the model using the training sets\n",
    "knn.fit(inv_pca, y_train)\n",
    "\n",
    "#Predict the response for test dataset\n",
    "y_pred = knn.predict(inv_pca_test)"
   ]
  },
  {
   "cell_type": "code",
   "execution_count": 106,
   "metadata": {},
   "outputs": [
    {
     "name": "stdout",
     "output_type": "stream",
     "text": [
      "Accuracy: 0.56608\n"
     ]
    }
   ],
   "source": [
    "from sklearn import metrics\n",
    "# Model Accuracy, how often is the classifier correct?\n",
    "print(\"Accuracy:\",metrics.accuracy_score(y_test, y_pred))"
   ]
  },
  {
   "cell_type": "code",
   "execution_count": 107,
   "metadata": {},
   "outputs": [],
   "source": [
    "knn = KNeighborsClassifier(n_neighbors=2)\n",
    "#Train the model using the training sets\n",
    "knn.fit(inv_pca, y_train)\n",
    "\n",
    "#Predict the response for test dataset\n",
    "y_pred = knn.predict(inv_pca_test)"
   ]
  },
  {
   "cell_type": "code",
   "execution_count": 108,
   "metadata": {},
   "outputs": [
    {
     "name": "stdout",
     "output_type": "stream",
     "text": [
      "Accuracy: 0.56608\n"
     ]
    }
   ],
   "source": [
    "from sklearn import metrics\n",
    "from sklearn.metrics import classification_report,confusion_matrix\n",
    "# Model Accuracy, how often is the classifier correct?\n",
    "print(\"Accuracy:\",metrics.accuracy_score(y_test, y_pred))"
   ]
  },
  {
   "cell_type": "code",
   "execution_count": 109,
   "metadata": {},
   "outputs": [
    {
     "name": "stdout",
     "output_type": "stream",
     "text": [
      "[[2431  718]\n",
      " [1994 1107]]\n"
     ]
    }
   ],
   "source": [
    "print(confusion_matrix(y_test,y_pred))"
   ]
  },
  {
   "cell_type": "code",
   "execution_count": 110,
   "metadata": {},
   "outputs": [
    {
     "name": "stdout",
     "output_type": "stream",
     "text": [
      "              precision    recall  f1-score   support\n",
      "\n",
      "         cat       0.55      0.77      0.64      3149\n",
      "         dog       0.61      0.36      0.45      3101\n",
      "\n",
      "    accuracy                           0.57      6250\n",
      "   macro avg       0.58      0.56      0.55      6250\n",
      "weighted avg       0.58      0.57      0.55      6250\n",
      "\n"
     ]
    }
   ],
   "source": [
    "\n",
    "print(classification_report(y_test,y_pred))"
   ]
  },
  {
   "cell_type": "markdown",
   "metadata": {},
   "source": [
    "#DecisionTreeClassifier"
   ]
  },
  {
   "cell_type": "code",
   "execution_count": null,
   "metadata": {},
   "outputs": [],
   "source": []
  },
  {
   "cell_type": "code",
   "execution_count": 113,
   "metadata": {},
   "outputs": [],
   "source": [
    "dtc = DecisionTreeClassifier(random_state = 42)\n",
    "dtc.fit(inv_pca, y_train)\n",
    "dtc_pred = dtc.predict(inv_pca_test)"
   ]
  },
  {
   "cell_type": "code",
   "execution_count": 114,
   "metadata": {},
   "outputs": [
    {
     "name": "stdout",
     "output_type": "stream",
     "text": [
      "Accuracy: 0.56608\n",
      "[[2431  718]\n",
      " [1994 1107]]\n",
      "              precision    recall  f1-score   support\n",
      "\n",
      "         cat       0.55      0.77      0.64      3149\n",
      "         dog       0.61      0.36      0.45      3101\n",
      "\n",
      "    accuracy                           0.57      6250\n",
      "   macro avg       0.58      0.56      0.55      6250\n",
      "weighted avg       0.58      0.57      0.55      6250\n",
      "\n"
     ]
    }
   ],
   "source": [
    "from sklearn import metrics\n",
    "from sklearn.metrics import classification_report,confusion_matrix\n",
    "# Model Accuracy, how often is the classifier correct?\n",
    "print(\"Accuracy:\",metrics.accuracy_score(y_test, y_pred))\n",
    "print(confusion_matrix(y_test,y_pred))\n",
    "print(classification_report(y_test,y_pred))"
   ]
  },
  {
   "cell_type": "code",
   "execution_count": 122,
   "metadata": {},
   "outputs": [],
   "source": [
    "##RandomForestClassifier"
   ]
  },
  {
   "cell_type": "code",
   "execution_count": 123,
   "metadata": {},
   "outputs": [],
   "source": [
    "rnd_clf = RandomForestClassifier()\n",
    "clf=RandomForestClassifier()\n",
    "clf.fit(inv_pca, y_train)\n",
    "y_pred = clf.predict(inv_pca_test)\n",
    "acc=accuracy_score(y_test, y_pred)"
   ]
  },
  {
   "cell_type": "code",
   "execution_count": 128,
   "metadata": {},
   "outputs": [
    {
     "name": "stdout",
     "output_type": "stream",
     "text": [
      "Accuracy: 0.64176\n",
      "[[2115 1034]\n",
      " [1205 1896]]\n",
      "              precision    recall  f1-score   support\n",
      "\n",
      "         cat       0.64      0.67      0.65      3149\n",
      "         dog       0.65      0.61      0.63      3101\n",
      "\n",
      "    accuracy                           0.64      6250\n",
      "   macro avg       0.64      0.64      0.64      6250\n",
      "weighted avg       0.64      0.64      0.64      6250\n",
      "\n"
     ]
    }
   ],
   "source": [
    "print(\"Accuracy:\",acc)\n",
    "print(confusion_matrix(y_test,y_pred))\n",
    "print(classification_report(y_test,y_pred))"
   ]
  },
  {
   "cell_type": "code",
   "execution_count": 124,
   "metadata": {},
   "outputs": [],
   "source": [
    "##BaggingClassifier"
   ]
  },
  {
   "cell_type": "code",
   "execution_count": 129,
   "metadata": {},
   "outputs": [],
   "source": [
    "bc = BaggingClassifier(\n",
    "    random_state=666\n",
    ")"
   ]
  },
  {
   "cell_type": "code",
   "execution_count": 126,
   "metadata": {},
   "outputs": [],
   "source": [
    "bc.fit(inv_pca, y_train)\n",
    "preds = bc.predict(inv_pca_test)"
   ]
  },
  {
   "cell_type": "code",
   "execution_count": 130,
   "metadata": {},
   "outputs": [
    {
     "name": "stdout",
     "output_type": "stream",
     "text": [
      "Bagging Classifier accuracy:  0.58768\n"
     ]
    }
   ],
   "source": [
    "print('Bagging Classifier accuracy: ', accuracy_score(y_test, preds))\n"
   ]
  },
  {
   "cell_type": "code",
   "execution_count": 133,
   "metadata": {},
   "outputs": [],
   "source": [
    "###RandomForestClassifier"
   ]
  },
  {
   "cell_type": "code",
   "execution_count": 132,
   "metadata": {},
   "outputs": [
    {
     "name": "stdout",
     "output_type": "stream",
     "text": [
      "Accuracy: 0.64736\n"
     ]
    }
   ],
   "source": [
    "rf_clf=RandomForestClassifier(n_estimators=150)\n",
    "rf_clf.fit(inv_pca,y_train)\n",
    "y_pred=rf_clf.predict(inv_pca_test)\n",
    "print(\"Accuracy:\",metrics.accuracy_score(y_test, y_pred))"
   ]
  },
  {
   "cell_type": "code",
   "execution_count": null,
   "metadata": {},
   "outputs": [],
   "source": []
  }
 ],
 "metadata": {
  "kernelspec": {
   "display_name": "Python 3",
   "language": "python",
   "name": "python3"
  },
  "language_info": {
   "codemirror_mode": {
    "name": "ipython",
    "version": 3
   },
   "file_extension": ".py",
   "mimetype": "text/x-python",
   "name": "python",
   "nbconvert_exporter": "python",
   "pygments_lexer": "ipython3",
   "version": "3.8.3"
  }
 },
 "nbformat": 4,
 "nbformat_minor": 4
}
