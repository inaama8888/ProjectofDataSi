{
 "cells": [
  {
   "cell_type": "markdown",
   "metadata": {},
   "source": [
    "<h5>Probability</h5>"
   ]
  },
  {
   "cell_type": "code",
   "execution_count": null,
   "metadata": {},
   "outputs": [],
   "source": [
    "#question 1 א\n",
    "\n",
    "1/300:from the brith of twins is identical twins\n",
    "1/125:from the brith is not identical twins\n",
    "           P(B/A)*P(A)\n",
    "# P(A/B)= ______________\n",
    "              P(B)\n",
    "    \n",
    " 1/300*1/2\n",
    " ___________   =5/24\n",
    "    1/125\n",
    "    \n",
    "    \n",
    "##ב\n",
    "\n",
    "3/4 *1/2+1/2*20/40\n",
    "=3/4*1/2+1/4\n",
    "=3/8+1/4\n",
    "=5/8\n",
    "           P(B/A)*P(A)\n",
    "# P(A/B)= ______________\n",
    "              P(B)\n",
    "    \n",
    " 1/2*3/4\n",
    "______________ =\n",
    "5/8\n",
    "\n",
    "3/5\n",
    "P(A/B)= 0.6"
   ]
  },
  {
   "cell_type": "code",
   "execution_count": 2,
   "metadata": {},
   "outputs": [
    {
     "ename": "SyntaxError",
     "evalue": "unexpected character after line continuation character (<ipython-input-2-79a588cfcf13>, line 1)",
     "output_type": "error",
     "traceback": [
      "\u001b[1;36m  File \u001b[1;32m\"<ipython-input-2-79a588cfcf13>\"\u001b[1;36m, line \u001b[1;32m1\u001b[0m\n\u001b[1;33m    \\n\", \"# Heading 1\\n\", \"# Heading 2\\n\", \"## Heading 2.1\\n\", \"## Heading 2.2\\n\", \"`\u001b[0m\n\u001b[1;37m                                                                                     ^\u001b[0m\n\u001b[1;31mSyntaxError\u001b[0m\u001b[1;31m:\u001b[0m unexpected character after line continuation character\n"
     ]
    }
   ],
   "source": [
    "#question 2\n",
    "\n",
    "1/36+2/6*1/6+1*1/6+1/6*1/6=\n",
    "\n",
    "5/18\n",
    "\n",
    "\n",
    "\n"
   ]
  },
  {
   "cell_type": "code",
   "execution_count": null,
   "metadata": {},
   "outputs": [],
   "source": []
  }
 ],
 "metadata": {
  "kernelspec": {
   "display_name": "Python 3",
   "language": "python",
   "name": "python3"
  },
  "language_info": {
   "codemirror_mode": {
    "name": "ipython",
    "version": 3
   },
   "file_extension": ".py",
   "mimetype": "text/x-python",
   "name": "python",
   "nbconvert_exporter": "python",
   "pygments_lexer": "ipython3",
   "version": "3.8.3"
  }
 },
 "nbformat": 4,
 "nbformat_minor": 4
}
