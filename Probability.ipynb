{
 "cells": [
  {
   "cell_type": "markdown",
   "metadata": {},
   "source": [
    "<h5>Probability</h5>"
   ]
  },
  {
   "cell_type": "code",
   "execution_count": null,
   "metadata": {},
   "outputs": [],
   "source": [
    "#question 1 א\n",
    "\n",
    "1/300:from the brith of twins is identical twins\n",
    "1/125:from the brith is not identical twins\n",
    "           P(B/A)*P(A)\n",
    "# P(A/B)= ______________\n",
    "              P(B)\n",
    "    \n",
    " 1/300*1/2\n",
    " ___________   =5/24\n",
    "    1/125\n",
    "    \n",
    "    \n",
    "##ב\n",
    "\n",
    "3/4 *1/2+1/2*20/40\n",
    "=3/4*1/2+1/4\n",
    "=3/8+1/4\n",
    "=5/8\n",
    "           P(B/A)*P(A)\n",
    "# P(A/B)= ______________\n",
    "              P(B)\n",
    "    \n",
    " 1/2*3/4\n",
    "______________ =\n",
    "5/8\n",
    "\n",
    "3/5\n",
    "P(A/B)= 0.6"
   ]
  },
  {
   "cell_type": "code",
   "execution_count": 2,
   "metadata": {},
   "outputs": [
    {
     "ename": "SyntaxError",
     "evalue": "unexpected character after line continuation character (<ipython-input-2-79a588cfcf13>, line 1)",
     "output_type": "error",
     "traceback": [
      "\u001b[1;36m  File \u001b[1;32m\"<ipython-input-2-79a588cfcf13>\"\u001b[1;36m, line \u001b[1;32m1\u001b[0m\n\u001b[1;33m    \\n\", \"# Heading 1\\n\", \"# Heading 2\\n\", \"## Heading 2.1\\n\", \"## Heading 2.2\\n\", \"`\u001b[0m\n\u001b[1;37m                                                                                     ^\u001b[0m\n\u001b[1;31mSyntaxError\u001b[0m\u001b[1;31m:\u001b[0m unexpected character after line continuation character\n"
     ]
    }
   ],
   "source": [
    "#question 2\n",
    "\n",
    "1/36+2/6*1/6+1*1/6+1/6*1/6=\n",
    "\n",
    "5/18\n",
    "\n",
    "\n",
    "\n"
   ]
  },
  {
   "cell_type": "code",
   "execution_count": null,
   "metadata": {},
   "outputs": [],
   "source": [
    "#question 3\n",
    "#א\n",
    "P(sick/pos)=  P(pos/sick)P(sick)\n",
    "              ------------------    \n",
    "                   P(pos)\n",
    "        \n",
    "= 1*1/10*10*10*10\n",
    "  --------------\n",
    "     0.01009\n",
    "    \n",
    "    \n",
    "=0.0099\n",
    "        \n",
    "p(sick) =1*1/(10*10*10*10)\n",
    "P(sick/pos)=1\n",
    "P(pos/sick)*P(sick)+P(pos/healthy)P(healthy)\n",
    "=1*1/(10*10*10*10)+0.01*(1-10*10*10*10)\n",
    "\n",
    "=0.01009\n",
    " the Probability that you have Ingrown toenail\n",
    "#ב\n",
    "\n",
    "P(sick/pos)=P(pos/sick)P(sick)\n",
    "            ------------------\n",
    "                  P(pos)\n",
    "        \n",
    "    1*1/200\n",
    "= ------------  = 0.344\n",
    "    0.01495\n",
    "    \n",
    "    \n",
    "p(sick) =1*1/200\n",
    "P(sick/pos)=1\n",
    "    \n",
    "    \n",
    "= P(pos/sick)*P(sick)+P(pos/healthy)P(healthy)\n",
    "=1*1/200+0.01*(199)\n",
    "              -----\n",
    "               200\n",
    "        \n",
    "        \n",
    "        =0.01495\n",
    "the Probability that somone back from Thailand have Swine Flu      "
   ]
  },
  {
   "cell_type": "markdown",
   "metadata": {},
   "source": [
    "<h1>random varible</h1>"
   ]
  },
  {
   "cell_type": "code",
   "execution_count": null,
   "metadata": {},
   "outputs": [],
   "source": [
    "#question 1\n",
    "\n",
    "\n",
    "if the sum of the dice is divisible by 3: 1/3\n",
    "    ##sum all the option\n",
    "if the sum  of the dice is not  divisible by 3: 2/3\n",
    " 6* 1/3 + -3*2/3=0\n",
    "Roi’s expected value of playing this game-0"
   ]
  },
  {
   "cell_type": "code",
   "execution_count": null,
   "metadata": {},
   "outputs": [],
   "source": [
    "#question 2\n",
    "Sharon has challenged Alex to a round of Marker Mixup. Marker Mixup is a game where\n",
    "there is a bag of 5 red markers numbered 1 through 5, and another bag with 5 green\n",
    "markers numbered 6 through 10.\n",
    "Alex will grab 1 marker from each bag, and if the 2 markers add up to more than 12, he will\n",
    "win 5$, 5. If the sum is exactly 12, he will break even, and If the sum is less than 12, he will\n",
    "lose 6$\n",
    "\n",
    "\n",
    "p\n",
    "\n",
    "\n",
    "\n",
    "\n"
   ]
  },
  {
   "cell_type": "code",
   "execution_count": null,
   "metadata": {},
   "outputs": [],
   "source": [
    "#question 3\n",
    "\n",
    "Mean = 40%, percent of which are male\n",
    "\n",
    "\n",
    "of 8 = 3.2, std = using the binomial destubution:\n",
    "    \n",
    "    variance = 8 0.4 0.6 =1.92 sqrt for the std: =1.385"
   ]
  },
  {
   "cell_type": "code",
   "execution_count": null,
   "metadata": {},
   "outputs": [],
   "source": [
    "#question 4\n",
    "\n",
    "p(26<x<30)\n",
    "x=2000$\n",
    "y=26,000\n",
    "\n",
    "\n",
    "to do Integral from 26 until 30\n"
   ]
  },
  {
   "cell_type": "code",
   "execution_count": null,
   "metadata": {},
   "outputs": [],
   "source": [
    "#question 5\n",
    "0.4*2\n",
    "-------=0.4\n",
    "2\n",
    "\n",
    "\n",
    "\n"
   ]
  },
  {
   "cell_type": "code",
   "execution_count": null,
   "metadata": {},
   "outputs": [],
   "source": [
    "#question 6\n",
    "  by Binomial distribution \n",
    "!4\n",
    "--------=4\n",
    "!3*(4-1)\n",
    "\n",
    "4*0.6*0.6*0.6*(1-0.6)\n",
    "\n",
    "=4*0.6*0.6*0.6\n",
    "=0.3456\n",
    " the probability that exactly 3 of the 4 employees selected have children is 0.3456\n"
   ]
  },
  {
   "cell_type": "code",
   "execution_count": null,
   "metadata": {},
   "outputs": [],
   "source": [
    "# question 7\n",
    "To find out the expected value of X-\n",
    "we need to calculate every column x value with y value\n",
    "\n",
    "(-10*0.1)+(10*0.1)+(-5*0.35)+(5*0.35)+(0*0.1)=0\n",
    "Because of the result its 0 we dont need to devided the number of the column\n",
    "\n",
    "the except to get x its 0"
   ]
  }
 ],
 "metadata": {
  "kernelspec": {
   "display_name": "Python 3",
   "language": "python",
   "name": "python3"
  },
  "language_info": {
   "codemirror_mode": {
    "name": "ipython",
    "version": 3
   },
   "file_extension": ".py",
   "mimetype": "text/x-python",
   "name": "python",
   "nbconvert_exporter": "python",
   "pygments_lexer": "ipython3",
   "version": "3.8.3"
  }
 },
 "nbformat": 4,
 "nbformat_minor": 4
}
